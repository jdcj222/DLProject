{
  "nbformat": 4,
  "nbformat_minor": 0,
  "metadata": {
    "colab": {
      "name": "Untitled6.ipynb",
      "version": "0.3.2",
      "provenance": [],
      "include_colab_link": true
    },
    "kernelspec": {
      "name": "python3",
      "display_name": "Python 3"
    },
    "accelerator": "GPU"
  },
  "cells": [
    {
      "cell_type": "markdown",
      "metadata": {
        "id": "view-in-github",
        "colab_type": "text"
      },
      "source": [
        "<a href=\"https://colab.research.google.com/github/jdcj222/DLProject/blob/master/week1/homework2.ipynb\" target=\"_parent\"><img src=\"https://colab.research.google.com/assets/colab-badge.svg\" alt=\"Open In Colab\"/></a>"
      ]
    },
    {
      "cell_type": "code",
      "metadata": {
        "id": "Oz84XYrgBfui",
        "colab_type": "code",
        "colab": {}
      },
      "source": [
        "import numpy as np\n",
        "data = [[3, 90], [6, 71], [9, 80], [12, 50]]\n",
        "x = [i[0] for i in data]\n",
        "y = [i[1] for i in data]"
      ],
      "execution_count": 0,
      "outputs": []
    },
    {
      "cell_type": "code",
      "metadata": {
        "id": "x2gH5bq-BzTR",
        "colab_type": "code",
        "colab": {}
      },
      "source": [
        "mx = np.mean(x)\n",
        "my = np.mean(y)"
      ],
      "execution_count": 0,
      "outputs": []
    },
    {
      "cell_type": "code",
      "metadata": {
        "id": "X3Udop8QCUY0",
        "colab_type": "code",
        "colab": {}
      },
      "source": [
        "divisor = sum([(mx-i)**2 for i in x])"
      ],
      "execution_count": 0,
      "outputs": []
    },
    {
      "cell_type": "code",
      "metadata": {
        "id": "u9YaQJn3CB9_",
        "colab_type": "code",
        "colab": {}
      },
      "source": [
        "\n",
        "\n",
        "def top(x, mx, y, my) :\n",
        "  d = 0\n",
        "  for i in range(len(x)):\n",
        "    d+=(x[i]-mx) * (y[i] - my)\n",
        "  return d\n"
      ],
      "execution_count": 0,
      "outputs": []
    },
    {
      "cell_type": "code",
      "metadata": {
        "id": "DY1ts4j_Ca_f",
        "colab_type": "code",
        "colab": {}
      },
      "source": [
        "dividend = top(x,mx,y,my)"
      ],
      "execution_count": 0,
      "outputs": []
    },
    {
      "cell_type": "code",
      "metadata": {
        "id": "bkiXldhaCk49",
        "colab_type": "code",
        "colab": {}
      },
      "source": [
        ""
      ],
      "execution_count": 0,
      "outputs": []
    },
    {
      "cell_type": "code",
      "metadata": {
        "id": "m5VM2L5vCeVC",
        "colab_type": "code",
        "colab": {}
      },
      "source": [
        "a = dividend / divisor\n",
        "b = my - (mx*a)"
      ],
      "execution_count": 0,
      "outputs": []
    },
    {
      "cell_type": "code",
      "metadata": {
        "id": "IMX0MVgnCob_",
        "colab_type": "code",
        "colab": {
          "base_uri": "https://localhost:8080/",
          "height": 53
        },
        "outputId": "f878d104-7d2a-441a-de49-532aa5453371"
      },
      "source": [
        "print(\"기울기 a=\", a)\n",
        "print(\"y 절편 b=\", b)"
      ],
      "execution_count": 7,
      "outputs": [
        {
          "output_type": "stream",
          "text": [
            "기울기 a= -3.7\n",
            "y 절편 b= 100.5\n"
          ],
          "name": "stdout"
        }
      ]
    },
    {
      "cell_type": "code",
      "metadata": {
        "id": "88BbfrDWC9IC",
        "colab_type": "code",
        "colab": {}
      },
      "source": [
        "ab = [2.3, 79.0]\n"
      ],
      "execution_count": 0,
      "outputs": []
    },
    {
      "cell_type": "code",
      "metadata": {
        "id": "0Q3YlPwkDB_D",
        "colab_type": "code",
        "colab": {}
      },
      "source": [
        "def predict(x):\n",
        "  return ab[0]*x + ab[1]"
      ],
      "execution_count": 0,
      "outputs": []
    },
    {
      "cell_type": "code",
      "metadata": {
        "id": "4XdWDG3cDGCQ",
        "colab_type": "code",
        "colab": {}
      },
      "source": [
        "def rmse(p,a) :\n",
        "  return np.sqrt(((p-a)**2).mean())"
      ],
      "execution_count": 0,
      "outputs": []
    },
    {
      "cell_type": "code",
      "metadata": {
        "id": "hPrm4LG_DdoA",
        "colab_type": "code",
        "colab": {}
      },
      "source": [
        "def rmse_val(predict_result, y) :\n",
        "  return rmse(np.array(predict_result), np.array(y))"
      ],
      "execution_count": 0,
      "outputs": []
    },
    {
      "cell_type": "code",
      "metadata": {
        "id": "Fl3n6D12FHU5",
        "colab_type": "code",
        "colab": {}
      },
      "source": [
        "predict_result = []"
      ],
      "execution_count": 0,
      "outputs": []
    },
    {
      "cell_type": "code",
      "metadata": {
        "id": "hFI_AOTYFJj2",
        "colab_type": "code",
        "colab": {
          "base_uri": "https://localhost:8080/",
          "height": 35
        },
        "outputId": "c011ceab-c1c0-479a-adda-a28eccfeb787"
      },
      "source": [
        "for i in range(len(x)) :\n",
        "  predict_result.append(predict(x[i]))\n",
        "\n",
        "print(\"rmse 최종값 : \" + str(rmse_val(predict_result, y)))"
      ],
      "execution_count": 13,
      "outputs": [
        {
          "output_type": "stream",
          "text": [
            "rmse 최종값 : 31.951917000392946\n"
          ],
          "name": "stdout"
        }
      ]
    }
  ]
}